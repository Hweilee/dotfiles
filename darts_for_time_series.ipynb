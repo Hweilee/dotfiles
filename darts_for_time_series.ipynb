{
  "cells": [
    {
      "cell_type": "markdown",
      "metadata": {
        "id": "view-in-github",
        "colab_type": "text"
      },
      "source": [
        "<a href=\"https://colab.research.google.com/github/Hweilee/dotfiles/blob/master/darts_for_time_series.ipynb\" target=\"_parent\"><img src=\"https://colab.research.google.com/assets/colab-badge.svg\" alt=\"Open In Colab\"/></a>"
      ]
    },
    {
      "cell_type": "markdown",
      "metadata": {
        "id": "860f20b3"
      },
      "source": [
        "# 🎯 **Introduction to Darts: A Time Series Library** 📈\n",
        "\n",
        "🔍 **What is Darts?**\n",
        "Darts is an amazing Python library that specializes in time series analysis and forecasting. 🕒 It provides a wide range of functionality and tools for working with time series data, making it an essential package for anyone interested in exploring and modeling temporal patterns. 💪\n",
        "\n",
        "🌟 **Why is Darts Good?**\n",
        "Darts stands out for several reasons:\n",
        "\n",
        "1. **User-Friendly**: Darts is designed to be beginner-friendly, making it accessible to students and researchers new to time series analysis. 📚\n",
        "\n",
        "2. **Extensive Functionality**: It offers a vast array of tools, models, and algorithms for time series manipulation, forecasting, and evaluation. 🧰\n",
        "\n",
        "3. **Integration with Pandas**: Darts seamlessly integrates with the widely-used pandas library, allowing users to leverage the power of Pandas' DataFrames for time series handling. 🐼\n",
        "\n",
        "4. **Visualization Capabilities**: Darts provides intuitive plotting functions, enabling users to visualize time series and forecasted values effortlessly. 📊\n",
        "\n",
        "5. **Modularity and Extendability**: Darts follows a modular design, making it easy to combine and extend functionalities, enabling users to experiment with different models and techniques. 🧩"
      ],
      "id": "860f20b3"
    },
    {
      "cell_type": "markdown",
      "metadata": {
        "id": "2b3c46a4"
      },
      "source": [
        "### Set-up:"
      ],
      "id": "2b3c46a4"
    },
    {
      "cell_type": "markdown",
      "metadata": {
        "id": "OIiP8B7O4pQM"
      },
      "source": [
        "💀💀💀 If you are working with an M1/ M2 chip you'll need to run this notebook on Colab since Darts does not yet work on silicon architecture! 💀💀💀"
      ],
      "id": "OIiP8B7O4pQM"
    },
    {
      "cell_type": "code",
      "execution_count": 1,
      "metadata": {
        "colab": {
          "base_uri": "https://localhost:8080/"
        },
        "id": "1aed58c6",
        "outputId": "45723957-8bbb-4faa-b929-62283743a0c4"
      },
      "outputs": [
        {
          "output_type": "stream",
          "name": "stdout",
          "text": [
            "\u001b[2K     \u001b[90m━━━━━━━━━━━━━━━━━━━━━━━━━━━━━━━━━━━━━━━━\u001b[0m \u001b[32m819.4/819.4 kB\u001b[0m \u001b[31m7.4 MB/s\u001b[0m eta \u001b[36m0:00:00\u001b[0m\n",
            "\u001b[2K     \u001b[90m━━━━━━━━━━━━━━━━━━━━━━━━━━━━━━━━━━━━━━━━\u001b[0m \u001b[32m2.1/2.1 MB\u001b[0m \u001b[31m13.7 MB/s\u001b[0m eta \u001b[36m0:00:00\u001b[0m\n",
            "\u001b[2K     \u001b[90m━━━━━━━━━━━━━━━━━━━━━━━━━━━━━━━━━━━━━━━━\u001b[0m \u001b[32m160.5/160.5 kB\u001b[0m \u001b[31m14.4 MB/s\u001b[0m eta \u001b[36m0:00:00\u001b[0m\n",
            "\u001b[?25h  Preparing metadata (setup.py) ... \u001b[?25l\u001b[?25hdone\n",
            "\u001b[2K     \u001b[90m━━━━━━━━━━━━━━━━━━━━━━━━━━━━━━━━━━━━━━━━\u001b[0m \u001b[32m535.7/535.7 kB\u001b[0m \u001b[31m13.9 MB/s\u001b[0m eta \u001b[36m0:00:00\u001b[0m\n",
            "\u001b[2K     \u001b[90m━━━━━━━━━━━━━━━━━━━━━━━━━━━━━━━━━━━━━━━━\u001b[0m \u001b[32m119.9/119.9 kB\u001b[0m \u001b[31m10.4 MB/s\u001b[0m eta \u001b[36m0:00:00\u001b[0m\n",
            "\u001b[2K     \u001b[90m━━━━━━━━━━━━━━━━━━━━━━━━━━━━━━━━━━━━━━━━\u001b[0m \u001b[32m44.0/44.0 kB\u001b[0m \u001b[31m4.5 MB/s\u001b[0m eta \u001b[36m0:00:00\u001b[0m\n",
            "\u001b[2K     \u001b[90m━━━━━━━━━━━━━━━━━━━━━━━━━━━━━━━━━━━━━━━━\u001b[0m \u001b[32m776.9/776.9 kB\u001b[0m \u001b[31m16.2 MB/s\u001b[0m eta \u001b[36m0:00:00\u001b[0m\n",
            "\u001b[2K     \u001b[90m━━━━━━━━━━━━━━━━━━━━━━━━━━━━━━━━━━━━━━━━\u001b[0m \u001b[32m101.7/101.7 kB\u001b[0m \u001b[31m10.7 MB/s\u001b[0m eta \u001b[36m0:00:00\u001b[0m\n",
            "\u001b[2K     \u001b[90m━━━━━━━━━━━━━━━━━━━━━━━━━━━━━━━━━━━━━━━━\u001b[0m \u001b[32m840.2/840.2 kB\u001b[0m \u001b[31m21.0 MB/s\u001b[0m eta \u001b[36m0:00:00\u001b[0m\n",
            "\u001b[2K     \u001b[90m━━━━━━━━━━━━━━━━━━━━━━━━━━━━━━━━━━━━━━━━\u001b[0m \u001b[32m279.8/279.8 kB\u001b[0m \u001b[31m22.9 MB/s\u001b[0m eta \u001b[36m0:00:00\u001b[0m\n",
            "\u001b[2K     \u001b[90m━━━━━━━━━━━━━━━━━━━━━━━━━━━━━━━━━━━━━━━━\u001b[0m \u001b[32m61.1/61.1 kB\u001b[0m \u001b[31m4.4 MB/s\u001b[0m eta \u001b[36m0:00:00\u001b[0m\n",
            "\u001b[2K     \u001b[90m━━━━━━━━━━━━━━━━━━━━━━━━━━━━━━━━━━━━━━━━\u001b[0m \u001b[32m169.2/169.2 kB\u001b[0m \u001b[31m11.6 MB/s\u001b[0m eta \u001b[36m0:00:00\u001b[0m\n",
            "\u001b[2K     \u001b[90m━━━━━━━━━━━━━━━━━━━━━━━━━━━━━━━━━━━━━━━━\u001b[0m \u001b[32m154.7/154.7 kB\u001b[0m \u001b[31m9.3 MB/s\u001b[0m eta \u001b[36m0:00:00\u001b[0m\n",
            "\u001b[?25h  Preparing metadata (setup.py) ... \u001b[?25l\u001b[?25hdone\n",
            "\u001b[2K     \u001b[90m━━━━━━━━━━━━━━━━━━━━━━━━━━━━━━━━━━━━━━━━\u001b[0m \u001b[32m144.2/144.2 kB\u001b[0m \u001b[31m7.0 MB/s\u001b[0m eta \u001b[36m0:00:00\u001b[0m\n",
            "\u001b[2K     \u001b[90m━━━━━━━━━━━━━━━━━━━━━━━━━━━━━━━━━━━━━━━━\u001b[0m \u001b[32m135.3/135.3 kB\u001b[0m \u001b[31m12.2 MB/s\u001b[0m eta \u001b[36m0:00:00\u001b[0m\n",
            "\u001b[?25h  Building wheel for pyod (setup.py) ... \u001b[?25l\u001b[?25hdone\n",
            "  Building wheel for fugue-sql-antlr (setup.py) ... \u001b[?25l\u001b[?25hdone\n",
            "Darts version: 0.27.2\n"
          ]
        }
      ],
      "source": [
        "!pip install darts --quiet\n",
        "\n",
        "import darts\n",
        "print(f\"Darts version: {darts.__version__}\")\n"
      ],
      "id": "1aed58c6"
    },
    {
      "cell_type": "markdown",
      "metadata": {
        "id": "2f5c17d4"
      },
      "source": [
        "2. **Loading and Visualizing Time Series Data with Pandas and Darts** 📊\n",
        "   - Import the necessary libraries.\n",
        "   - Load sample [weather](https://wagon-public-datasets.s3.amazonaws.com/weather.csv) and [ice cream](https://wagon-public-datasets.s3.amazonaws.com/ice_cream.csv) time series dataset. This is pulled from [Google Trends](https://trends.google.com/trends/)! We've just taken data for searches on \"ice cream\" and \"hot weather\" from 2004. Feel free to check out your own data-sets down the line!\n",
        "   - Demonstrate how to create a Darts TimeSeries object from a Pandas DataFrame.\n",
        "   - Plot the time series using Darts' visualization capabilities."
      ],
      "id": "2f5c17d4"
    },
    {
      "cell_type": "code",
      "execution_count": 2,
      "metadata": {
        "colab": {
          "base_uri": "https://localhost:8080/",
          "height": 224
        },
        "id": "c2b798ee-096d-4934-9fca-877c7c054213",
        "outputId": "5946778e-f2e1-47a5-ab8e-5f8528218a74"
      },
      "outputs": [
        {
          "output_type": "stream",
          "name": "stdout",
          "text": [
            "(235, 2)\n"
          ]
        },
        {
          "output_type": "execute_result",
          "data": {
            "text/plain": [
              "     Month  ice_cream\n",
              "0  2004-01         12\n",
              "1  2004-02         13\n",
              "2  2004-03         14\n",
              "3  2004-04         16\n",
              "4  2004-05         20"
            ],
            "text/html": [
              "\n",
              "  <div id=\"df-6eed8115-8056-4558-a34f-989e69689e13\" class=\"colab-df-container\">\n",
              "    <div>\n",
              "<style scoped>\n",
              "    .dataframe tbody tr th:only-of-type {\n",
              "        vertical-align: middle;\n",
              "    }\n",
              "\n",
              "    .dataframe tbody tr th {\n",
              "        vertical-align: top;\n",
              "    }\n",
              "\n",
              "    .dataframe thead th {\n",
              "        text-align: right;\n",
              "    }\n",
              "</style>\n",
              "<table border=\"1\" class=\"dataframe\">\n",
              "  <thead>\n",
              "    <tr style=\"text-align: right;\">\n",
              "      <th></th>\n",
              "      <th>Month</th>\n",
              "      <th>ice_cream</th>\n",
              "    </tr>\n",
              "  </thead>\n",
              "  <tbody>\n",
              "    <tr>\n",
              "      <th>0</th>\n",
              "      <td>2004-01</td>\n",
              "      <td>12</td>\n",
              "    </tr>\n",
              "    <tr>\n",
              "      <th>1</th>\n",
              "      <td>2004-02</td>\n",
              "      <td>13</td>\n",
              "    </tr>\n",
              "    <tr>\n",
              "      <th>2</th>\n",
              "      <td>2004-03</td>\n",
              "      <td>14</td>\n",
              "    </tr>\n",
              "    <tr>\n",
              "      <th>3</th>\n",
              "      <td>2004-04</td>\n",
              "      <td>16</td>\n",
              "    </tr>\n",
              "    <tr>\n",
              "      <th>4</th>\n",
              "      <td>2004-05</td>\n",
              "      <td>20</td>\n",
              "    </tr>\n",
              "  </tbody>\n",
              "</table>\n",
              "</div>\n",
              "    <div class=\"colab-df-buttons\">\n",
              "\n",
              "  <div class=\"colab-df-container\">\n",
              "    <button class=\"colab-df-convert\" onclick=\"convertToInteractive('df-6eed8115-8056-4558-a34f-989e69689e13')\"\n",
              "            title=\"Convert this dataframe to an interactive table.\"\n",
              "            style=\"display:none;\">\n",
              "\n",
              "  <svg xmlns=\"http://www.w3.org/2000/svg\" height=\"24px\" viewBox=\"0 -960 960 960\">\n",
              "    <path d=\"M120-120v-720h720v720H120Zm60-500h600v-160H180v160Zm220 220h160v-160H400v160Zm0 220h160v-160H400v160ZM180-400h160v-160H180v160Zm440 0h160v-160H620v160ZM180-180h160v-160H180v160Zm440 0h160v-160H620v160Z\"/>\n",
              "  </svg>\n",
              "    </button>\n",
              "\n",
              "  <style>\n",
              "    .colab-df-container {\n",
              "      display:flex;\n",
              "      gap: 12px;\n",
              "    }\n",
              "\n",
              "    .colab-df-convert {\n",
              "      background-color: #E8F0FE;\n",
              "      border: none;\n",
              "      border-radius: 50%;\n",
              "      cursor: pointer;\n",
              "      display: none;\n",
              "      fill: #1967D2;\n",
              "      height: 32px;\n",
              "      padding: 0 0 0 0;\n",
              "      width: 32px;\n",
              "    }\n",
              "\n",
              "    .colab-df-convert:hover {\n",
              "      background-color: #E2EBFA;\n",
              "      box-shadow: 0px 1px 2px rgba(60, 64, 67, 0.3), 0px 1px 3px 1px rgba(60, 64, 67, 0.15);\n",
              "      fill: #174EA6;\n",
              "    }\n",
              "\n",
              "    .colab-df-buttons div {\n",
              "      margin-bottom: 4px;\n",
              "    }\n",
              "\n",
              "    [theme=dark] .colab-df-convert {\n",
              "      background-color: #3B4455;\n",
              "      fill: #D2E3FC;\n",
              "    }\n",
              "\n",
              "    [theme=dark] .colab-df-convert:hover {\n",
              "      background-color: #434B5C;\n",
              "      box-shadow: 0px 1px 3px 1px rgba(0, 0, 0, 0.15);\n",
              "      filter: drop-shadow(0px 1px 2px rgba(0, 0, 0, 0.3));\n",
              "      fill: #FFFFFF;\n",
              "    }\n",
              "  </style>\n",
              "\n",
              "    <script>\n",
              "      const buttonEl =\n",
              "        document.querySelector('#df-6eed8115-8056-4558-a34f-989e69689e13 button.colab-df-convert');\n",
              "      buttonEl.style.display =\n",
              "        google.colab.kernel.accessAllowed ? 'block' : 'none';\n",
              "\n",
              "      async function convertToInteractive(key) {\n",
              "        const element = document.querySelector('#df-6eed8115-8056-4558-a34f-989e69689e13');\n",
              "        const dataTable =\n",
              "          await google.colab.kernel.invokeFunction('convertToInteractive',\n",
              "                                                    [key], {});\n",
              "        if (!dataTable) return;\n",
              "\n",
              "        const docLinkHtml = 'Like what you see? Visit the ' +\n",
              "          '<a target=\"_blank\" href=https://colab.research.google.com/notebooks/data_table.ipynb>data table notebook</a>'\n",
              "          + ' to learn more about interactive tables.';\n",
              "        element.innerHTML = '';\n",
              "        dataTable['output_type'] = 'display_data';\n",
              "        await google.colab.output.renderOutput(dataTable, element);\n",
              "        const docLink = document.createElement('div');\n",
              "        docLink.innerHTML = docLinkHtml;\n",
              "        element.appendChild(docLink);\n",
              "      }\n",
              "    </script>\n",
              "  </div>\n",
              "\n",
              "\n",
              "<div id=\"df-bb0b6942-1318-4e75-966b-c89c354bcb48\">\n",
              "  <button class=\"colab-df-quickchart\" onclick=\"quickchart('df-bb0b6942-1318-4e75-966b-c89c354bcb48')\"\n",
              "            title=\"Suggest charts\"\n",
              "            style=\"display:none;\">\n",
              "\n",
              "<svg xmlns=\"http://www.w3.org/2000/svg\" height=\"24px\"viewBox=\"0 0 24 24\"\n",
              "     width=\"24px\">\n",
              "    <g>\n",
              "        <path d=\"M19 3H5c-1.1 0-2 .9-2 2v14c0 1.1.9 2 2 2h14c1.1 0 2-.9 2-2V5c0-1.1-.9-2-2-2zM9 17H7v-7h2v7zm4 0h-2V7h2v10zm4 0h-2v-4h2v4z\"/>\n",
              "    </g>\n",
              "</svg>\n",
              "  </button>\n",
              "\n",
              "<style>\n",
              "  .colab-df-quickchart {\n",
              "      --bg-color: #E8F0FE;\n",
              "      --fill-color: #1967D2;\n",
              "      --hover-bg-color: #E2EBFA;\n",
              "      --hover-fill-color: #174EA6;\n",
              "      --disabled-fill-color: #AAA;\n",
              "      --disabled-bg-color: #DDD;\n",
              "  }\n",
              "\n",
              "  [theme=dark] .colab-df-quickchart {\n",
              "      --bg-color: #3B4455;\n",
              "      --fill-color: #D2E3FC;\n",
              "      --hover-bg-color: #434B5C;\n",
              "      --hover-fill-color: #FFFFFF;\n",
              "      --disabled-bg-color: #3B4455;\n",
              "      --disabled-fill-color: #666;\n",
              "  }\n",
              "\n",
              "  .colab-df-quickchart {\n",
              "    background-color: var(--bg-color);\n",
              "    border: none;\n",
              "    border-radius: 50%;\n",
              "    cursor: pointer;\n",
              "    display: none;\n",
              "    fill: var(--fill-color);\n",
              "    height: 32px;\n",
              "    padding: 0;\n",
              "    width: 32px;\n",
              "  }\n",
              "\n",
              "  .colab-df-quickchart:hover {\n",
              "    background-color: var(--hover-bg-color);\n",
              "    box-shadow: 0 1px 2px rgba(60, 64, 67, 0.3), 0 1px 3px 1px rgba(60, 64, 67, 0.15);\n",
              "    fill: var(--button-hover-fill-color);\n",
              "  }\n",
              "\n",
              "  .colab-df-quickchart-complete:disabled,\n",
              "  .colab-df-quickchart-complete:disabled:hover {\n",
              "    background-color: var(--disabled-bg-color);\n",
              "    fill: var(--disabled-fill-color);\n",
              "    box-shadow: none;\n",
              "  }\n",
              "\n",
              "  .colab-df-spinner {\n",
              "    border: 2px solid var(--fill-color);\n",
              "    border-color: transparent;\n",
              "    border-bottom-color: var(--fill-color);\n",
              "    animation:\n",
              "      spin 1s steps(1) infinite;\n",
              "  }\n",
              "\n",
              "  @keyframes spin {\n",
              "    0% {\n",
              "      border-color: transparent;\n",
              "      border-bottom-color: var(--fill-color);\n",
              "      border-left-color: var(--fill-color);\n",
              "    }\n",
              "    20% {\n",
              "      border-color: transparent;\n",
              "      border-left-color: var(--fill-color);\n",
              "      border-top-color: var(--fill-color);\n",
              "    }\n",
              "    30% {\n",
              "      border-color: transparent;\n",
              "      border-left-color: var(--fill-color);\n",
              "      border-top-color: var(--fill-color);\n",
              "      border-right-color: var(--fill-color);\n",
              "    }\n",
              "    40% {\n",
              "      border-color: transparent;\n",
              "      border-right-color: var(--fill-color);\n",
              "      border-top-color: var(--fill-color);\n",
              "    }\n",
              "    60% {\n",
              "      border-color: transparent;\n",
              "      border-right-color: var(--fill-color);\n",
              "    }\n",
              "    80% {\n",
              "      border-color: transparent;\n",
              "      border-right-color: var(--fill-color);\n",
              "      border-bottom-color: var(--fill-color);\n",
              "    }\n",
              "    90% {\n",
              "      border-color: transparent;\n",
              "      border-bottom-color: var(--fill-color);\n",
              "    }\n",
              "  }\n",
              "</style>\n",
              "\n",
              "  <script>\n",
              "    async function quickchart(key) {\n",
              "      const quickchartButtonEl =\n",
              "        document.querySelector('#' + key + ' button');\n",
              "      quickchartButtonEl.disabled = true;  // To prevent multiple clicks.\n",
              "      quickchartButtonEl.classList.add('colab-df-spinner');\n",
              "      try {\n",
              "        const charts = await google.colab.kernel.invokeFunction(\n",
              "            'suggestCharts', [key], {});\n",
              "      } catch (error) {\n",
              "        console.error('Error during call to suggestCharts:', error);\n",
              "      }\n",
              "      quickchartButtonEl.classList.remove('colab-df-spinner');\n",
              "      quickchartButtonEl.classList.add('colab-df-quickchart-complete');\n",
              "    }\n",
              "    (() => {\n",
              "      let quickchartButtonEl =\n",
              "        document.querySelector('#df-bb0b6942-1318-4e75-966b-c89c354bcb48 button');\n",
              "      quickchartButtonEl.style.display =\n",
              "        google.colab.kernel.accessAllowed ? 'block' : 'none';\n",
              "    })();\n",
              "  </script>\n",
              "</div>\n",
              "\n",
              "    </div>\n",
              "  </div>\n"
            ]
          },
          "metadata": {},
          "execution_count": 2
        }
      ],
      "source": [
        "import pandas as pd\n",
        "\n",
        "# Load a sample time series dataset\n",
        "# Skip the first 2 rows when reading the CSV\n",
        "df = pd.read_csv(\"https://wagon-public-datasets.s3.amazonaws.com/ice_cream.csv\", header=1, names=['Month', 'ice_cream'])\n",
        "print(df.shape)\n",
        "df.head()"
      ],
      "id": "c2b798ee-096d-4934-9fca-877c7c054213"
    },
    {
      "cell_type": "markdown",
      "metadata": {
        "id": "O9w0XgiL4pQR"
      },
      "source": [
        "First up let's see how easy it is to load up our time series in a TimeSeries object and plot it!"
      ],
      "id": "O9w0XgiL4pQR"
    },
    {
      "cell_type": "code",
      "execution_count": 3,
      "metadata": {
        "colab": {
          "base_uri": "https://localhost:8080/",
          "height": 478
        },
        "id": "8bcc1ae0-bbbb-4b2d-9fa5-378f94ec8dda",
        "outputId": "64b1c600-ab79-4fb8-a5b3-f5862269a74a",
        "tags": []
      },
      "outputs": [
        {
          "output_type": "execute_result",
          "data": {
            "text/plain": [
              "<Axes: xlabel='Month'>"
            ]
          },
          "metadata": {},
          "execution_count": 3
        },
        {
          "output_type": "display_data",
          "data": {
            "text/plain": [
              "<Figure size 640x480 with 1 Axes>"
            ],
            "image/png": "[encoded data removed]"
          },
          "metadata": {}
        }
      ],
      "source": [
        "from darts import TimeSeries\n",
        "series = TimeSeries.from_dataframe(df, 'Month', 'ice_cream')\n",
        "series.plot()"
      ],
      "id": "8bcc1ae0-bbbb-4b2d-9fa5-378f94ec8dda"
    },
    {
      "cell_type": "markdown",
      "metadata": {
        "id": "knlnOOTe4pQW"
      },
      "source": [
        "Uh oh - looks like we have some issues and missing values 😔 This is a super common issue with many time series! Let's move on to preprocessing to showcase some methods for handling issues like these!"
      ],
      "id": "knlnOOTe4pQW"
    },
    {
      "cell_type": "markdown",
      "metadata": {
        "id": "a11fa28e"
      },
      "source": [
        "### **Manipulating Time Series Data** 🔄\n",
        "   - Showcase various operations for manipulating time series data:\n",
        "     - Resampling and frequency conversion.\n",
        "     - Handling missing values.\n",
        "     - Applying rolling window calculations.\n",
        "     - Feature engineering."
      ],
      "id": "a11fa28e"
    },
    {
      "cell_type": "code",
      "execution_count": null,
      "metadata": {
        "id": "0eaf5a71-2596-43fb-a55e-c253e7effeaf"
      },
      "outputs": [],
      "source": [
        "from darts.utils.missing_values import fill_missing_values\n",
        "series = fill_missing_values(series)"
      ],
      "id": "0eaf5a71-2596-43fb-a55e-c253e7effeaf"
    },
    {
      "cell_type": "code",
      "execution_count": null,
      "metadata": {
        "id": "05dfd8b3-f174-4b8c-bcdb-dc16052c130d"
      },
      "outputs": [],
      "source": [
        "series.plot()"
      ],
      "id": "05dfd8b3-f174-4b8c-bcdb-dc16052c130d"
    },
    {
      "cell_type": "markdown",
      "metadata": {
        "id": "42b96890-b774-4c8e-bfaf-b901ff209601"
      },
      "source": [
        "Easy! What if we want to plot our data on an annual basis instead? We can just resample!"
      ],
      "id": "42b96890-b774-4c8e-bfaf-b901ff209601"
    },
    {
      "cell_type": "code",
      "execution_count": null,
      "metadata": {
        "id": "86152e15-c9a7-46ef-9eac-5e1735abcb1d"
      },
      "outputs": [],
      "source": [
        "# Resampling and frequency conversion\n",
        "resampled_example = series.resample(\"Y\")"
      ],
      "id": "86152e15-c9a7-46ef-9eac-5e1735abcb1d"
    },
    {
      "cell_type": "code",
      "execution_count": null,
      "metadata": {
        "id": "8ab289c8-4ac0-4bc2-a9da-bd90e3d9e8f0"
      },
      "outputs": [],
      "source": [
        "resampled_example.plot()"
      ],
      "id": "8ab289c8-4ac0-4bc2-a9da-bd90e3d9e8f0"
    },
    {
      "cell_type": "code",
      "execution_count": null,
      "metadata": {
        "id": "86988b83-214e-4bec-8bf7-ceab435375c6"
      },
      "outputs": [],
      "source": [
        "# Applying rolling window calculations\n",
        "rolling_mean_example = series.window_transform({\"function\":\"mean\", \"window\": 6})"
      ],
      "id": "86988b83-214e-4bec-8bf7-ceab435375c6"
    },
    {
      "cell_type": "code",
      "execution_count": null,
      "metadata": {
        "id": "089a8df1-e7f6-485e-b7a7-948a1640667b"
      },
      "outputs": [],
      "source": [
        "rolling_mean_example.plot()"
      ],
      "id": "089a8df1-e7f6-485e-b7a7-948a1640667b"
    },
    {
      "cell_type": "markdown",
      "metadata": {
        "id": "b2fd0ac8-a626-4d3a-b512-a9e99dd2daa3"
      },
      "source": [
        "We can diff our series just like we did with Pandas earlier"
      ],
      "id": "b2fd0ac8-a626-4d3a-b512-a9e99dd2daa3"
    },
    {
      "cell_type": "code",
      "execution_count": null,
      "metadata": {
        "id": "3785e3b3-8ab8-4515-b762-3297cd715067"
      },
      "outputs": [],
      "source": [
        "# Feature engineering\n",
        "diff_example = series.diff()"
      ],
      "id": "3785e3b3-8ab8-4515-b762-3297cd715067"
    },
    {
      "cell_type": "code",
      "execution_count": null,
      "metadata": {
        "id": "cb60cc35-23da-48db-acb6-1dd5d3921b10"
      },
      "outputs": [],
      "source": [
        "diff_example.plot()"
      ],
      "id": "cb60cc35-23da-48db-acb6-1dd5d3921b10"
    },
    {
      "cell_type": "markdown",
      "metadata": {
        "id": "27b9e865-4a0c-4efd-b080-9213805163d6"
      },
      "source": [
        "We can even add holidays to our time series with a quick method - this will add a simple 0 or 1 based on whether or not there was a national holiday on that day. If we wanted, we can then use this to spot more correlations later!"
      ],
      "id": "27b9e865-4a0c-4efd-b080-9213805163d6"
    },
    {
      "cell_type": "code",
      "execution_count": null,
      "metadata": {
        "id": "e3632c8d-e196-4071-bfa3-7ffd297d27bb"
      },
      "outputs": [],
      "source": [
        "hol_example = series.add_holidays(\"US\")"
      ],
      "id": "e3632c8d-e196-4071-bfa3-7ffd297d27bb"
    },
    {
      "cell_type": "code",
      "execution_count": null,
      "metadata": {
        "id": "1917842e-b654-4d4f-b29f-2a9274dc1930"
      },
      "outputs": [],
      "source": [
        "hol_example.plot()"
      ],
      "id": "1917842e-b654-4d4f-b29f-2a9274dc1930"
    },
    {
      "cell_type": "markdown",
      "metadata": {
        "id": "ad6beb3e"
      },
      "source": [
        "### Time Series Modeling and Forecasting ⏳\n",
        "   - Now we can split our data and begin modelling:\n",
        "     - Naive models (e.g., NaiveSeasonal).\n",
        "     - Classical models (e.g., ExponentialSmoothing).\n",
        "     - Machine learning models (e.g., Prophet, ARIMA).\n",
        "   - Demonstrate how to fit models to time series data and generate forecasts."
      ],
      "id": "ad6beb3e"
    },
    {
      "cell_type": "markdown",
      "metadata": {
        "id": "06a9758e-ef5b-42cf-9598-656d5364662a"
      },
      "source": [
        "First let's standardize and log our time series since it seems to have an exponential trend"
      ],
      "id": "06a9758e-ef5b-42cf-9598-656d5364662a"
    },
    {
      "cell_type": "code",
      "execution_count": null,
      "metadata": {
        "id": "91246744-33b9-4aaf-a323-42141686245f"
      },
      "outputs": [],
      "source": [
        "import numpy as np\n",
        "logged = (series).map(lambda x: np.log(x))"
      ],
      "id": "91246744-33b9-4aaf-a323-42141686245f"
    },
    {
      "cell_type": "code",
      "execution_count": null,
      "metadata": {
        "id": "33cafcac-de8c-4440-beb1-da3bdc9fb94e"
      },
      "outputs": [],
      "source": [
        "from darts.dataprocessing.transformers.scaler import Scaler"
      ],
      "id": "33cafcac-de8c-4440-beb1-da3bdc9fb94e"
    },
    {
      "cell_type": "markdown",
      "metadata": {
        "id": "5bZvRNWL4pQf"
      },
      "source": [
        "Next we can easily implement a MinMaxScaler() for our data (in this case - all Google Trends are standardized to 100 so we could just divide by 100, but it's useful to demonstrate!)"
      ],
      "id": "5bZvRNWL4pQf"
    },
    {
      "cell_type": "code",
      "execution_count": null,
      "metadata": {
        "id": "0ba23a47-d6f7-4e31-80ef-f78601dde911"
      },
      "outputs": [],
      "source": [
        "from sklearn.preprocessing import MinMaxScaler"
      ],
      "id": "0ba23a47-d6f7-4e31-80ef-f78601dde911"
    },
    {
      "cell_type": "code",
      "execution_count": null,
      "metadata": {
        "id": "a43dd128-783e-4fcb-adfb-09cf51d7eeea"
      },
      "outputs": [],
      "source": [
        "scaler = MinMaxScaler()"
      ],
      "id": "a43dd128-783e-4fcb-adfb-09cf51d7eeea"
    },
    {
      "cell_type": "code",
      "execution_count": null,
      "metadata": {
        "id": "c83c141d-c85e-4867-9e8a-f20482f7b3a3"
      },
      "outputs": [],
      "source": [
        "ts_transformer = Scaler(scaler)"
      ],
      "id": "c83c141d-c85e-4867-9e8a-f20482f7b3a3"
    },
    {
      "cell_type": "code",
      "execution_count": null,
      "metadata": {
        "id": "c6350e60-ff17-479b-af7e-cb61fc604292"
      },
      "outputs": [],
      "source": [
        "scaled_ts = ts_transformer.fit_transform(logged)"
      ],
      "id": "c6350e60-ff17-479b-af7e-cb61fc604292"
    },
    {
      "cell_type": "code",
      "execution_count": null,
      "metadata": {
        "id": "ff0aa2c2-087d-4eea-b496-25fe2f5fe7b2"
      },
      "outputs": [],
      "source": [
        "train, val = (scaled_ts).split_before(0.8)# (we standardize by dividing by 100 since Google Trends data tops out at 100 by default!)\n",
        "train.plot(label=\"training\")\n",
        "val.plot(label=\"validation\")"
      ],
      "id": "ff0aa2c2-087d-4eea-b496-25fe2f5fe7b2"
    },
    {
      "cell_type": "markdown",
      "metadata": {
        "id": "82705680-d995-424c-aa75-20f92ba34559"
      },
      "source": [
        "First, let's define our baseline model with a NaiveSeasonal model (when K = 1 it will simply repeat the prior timestep!)"
      ],
      "id": "82705680-d995-424c-aa75-20f92ba34559"
    },
    {
      "cell_type": "code",
      "execution_count": null,
      "metadata": {
        "id": "b02210d9-89b0-4ca1-869a-182f8acedb39"
      },
      "outputs": [],
      "source": [
        "from darts.models import NaiveSeasonal\n",
        "\n",
        "naive_model = NaiveSeasonal(K=1)\n",
        "naive_model.fit(train)\n",
        "naive_forecast = naive_model.predict(len(val))\n",
        "\n",
        "train.plot(label=\"actual\")\n",
        "val.plot(label = \"validation\")\n",
        "naive_forecast.plot(label=\"naive forecast (K=1)\")"
      ],
      "id": "b02210d9-89b0-4ca1-869a-182f8acedb39"
    },
    {
      "cell_type": "markdown",
      "metadata": {
        "id": "5130404f-4ca0-49d6-b71c-c054f781dc10"
      },
      "source": [
        "Not great! Let's quantify our baseline with MAPE."
      ],
      "id": "5130404f-4ca0-49d6-b71c-c054f781dc10"
    },
    {
      "cell_type": "code",
      "execution_count": null,
      "metadata": {
        "id": "848c515b-05ac-4b2d-bb53-65f87e04e43f"
      },
      "outputs": [],
      "source": [
        "from darts.metrics import mape\n",
        "\n",
        "accuracy = mape(val, naive_forecast)\n",
        "print(f\"Mean Absolute Percentage Error: {accuracy}\")"
      ],
      "id": "848c515b-05ac-4b2d-bb53-65f87e04e43f"
    },
    {
      "cell_type": "markdown",
      "metadata": {
        "id": "2333f394-219d-44f9-baaf-b8b3297a156c"
      },
      "source": [
        "Should be quite an easy baseline to beat! Let's try using an Exponential Smoothing model first"
      ],
      "id": "2333f394-219d-44f9-baaf-b8b3297a156c"
    },
    {
      "cell_type": "code",
      "execution_count": null,
      "metadata": {
        "id": "f5555bf6"
      },
      "outputs": [],
      "source": [
        "from darts.models import ExponentialSmoothing\n",
        "\n",
        "# Initialize and fit an Exponential Smoothing model\n",
        "model = ExponentialSmoothing()\n",
        "model.fit(train)\n",
        "\n",
        "# Generate forecasts\n",
        "exp_forecast = model.predict(len(val))\n"
      ],
      "id": "f5555bf6"
    },
    {
      "cell_type": "code",
      "execution_count": null,
      "metadata": {
        "id": "19873815-df7b-47e9-ad16-993856b6741f"
      },
      "outputs": [],
      "source": [
        "train.plot(label=\"training\")\n",
        "val.plot(label=\"validation\")\n",
        "exp_forecast.plot(label = \"predictions\")"
      ],
      "id": "19873815-df7b-47e9-ad16-993856b6741f"
    },
    {
      "cell_type": "code",
      "execution_count": null,
      "metadata": {
        "id": "470141fd-3786-4096-a0bb-1f9858e4e66c"
      },
      "outputs": [],
      "source": [
        "from darts.metrics import mape\n",
        "\n",
        "accuracy = mape(val, exp_forecast)\n",
        "print(f\"Mean Absolute Percentage Error: {accuracy}\")"
      ],
      "id": "470141fd-3786-4096-a0bb-1f9858e4e66c"
    },
    {
      "cell_type": "markdown",
      "metadata": {
        "id": "dceaeb0b-74ae-4175-b0e9-f89e1ffeff10"
      },
      "source": [
        "Already quite a bit better!"
      ],
      "id": "dceaeb0b-74ae-4175-b0e9-f89e1ffeff10"
    },
    {
      "cell_type": "markdown",
      "metadata": {
        "id": "40ba4566-a378-4a74-9c28-bb4342b9c61d",
        "tags": []
      },
      "source": [
        "### Multiple models"
      ],
      "id": "40ba4566-a378-4a74-9c28-bb4342b9c61d"
    },
    {
      "cell_type": "markdown",
      "metadata": {
        "id": "a3a8343e-ff84-4cc0-bc59-d0c54111b80c"
      },
      "source": [
        "Darts makes it incredibly easy to loop through a list of models to see which performs best for our task:"
      ],
      "id": "a3a8343e-ff84-4cc0-bc59-d0c54111b80c"
    },
    {
      "cell_type": "code",
      "execution_count": null,
      "metadata": {
        "id": "3239b826-1440-4bab-bb54-c1264424c06a"
      },
      "outputs": [],
      "source": [
        "from darts.models import AutoARIMA, Prophet, TBATS\n",
        "\n",
        "results_dict = {}\n",
        "\n",
        "for model in [AutoARIMA, Prophet, TBATS]:\n",
        "    temp = model()\n",
        "    temp.fit(train)\n",
        "    preds = temp.predict(len(val))\n",
        "    accuracy = mape(val, preds)\n",
        "    results_dict[f\"{model}\"] = accuracy"
      ],
      "id": "3239b826-1440-4bab-bb54-c1264424c06a"
    },
    {
      "cell_type": "code",
      "execution_count": null,
      "metadata": {
        "id": "051bba12-fa87-4ea7-a868-d1ae73de22b5"
      },
      "outputs": [],
      "source": [
        "results_dict"
      ],
      "id": "051bba12-fa87-4ea7-a868-d1ae73de22b5"
    },
    {
      "cell_type": "markdown",
      "metadata": {
        "id": "b7cc9af5-7b79-4091-831e-838b39dbe3a8"
      },
      "source": [
        "It seems TBATS (a model that decomposes a time series into multiple components, including trend, seasonality, and error terms before representing each as a combination of trigonometric functions) has worked best! Could we do any better with some exogenous features though?"
      ],
      "id": "b7cc9af5-7b79-4091-831e-838b39dbe3a8"
    },
    {
      "cell_type": "markdown",
      "metadata": {
        "id": "fcd3bc3b-81b5-4cb0-9e33-e75807cc41e9"
      },
      "source": [
        "### Covariates"
      ],
      "id": "fcd3bc3b-81b5-4cb0-9e33-e75807cc41e9"
    },
    {
      "cell_type": "markdown",
      "metadata": {
        "id": "53dcaf7f-9147-4cc5-99fd-8de743afb875"
      },
      "source": [
        "Reminder: Covariates refer to external data that can be used as inputs to models to help improve forecasts. In the context of forecasting models, the target is the series to be forecasted/predicted, and the covariates themselves are not predicted. We distinguish three kinds of covariates:\n",
        "\n",
        "Past covariates are (by definition) covariates known only into the past (e.g. measurements)\n",
        "\n",
        "Future covariates are (by definition) covariates known into the future (e.g., weather forecasts)\n",
        "\n",
        "Static covariates are (by definition) covariates constant over time (e.g., product IDs).\n",
        "\n",
        "Check out [this page](https://unit8co.github.io/darts/#:~:text=Darts%20is%20a%20Python%20library,%2C%20similar%20to%20scikit%2Dlearn.) to see which models have the availability to fold in past and future covariates. To keep things simple we'll proceed with Arima!\n",
        "\n"
      ],
      "id": "53dcaf7f-9147-4cc5-99fd-8de743afb875"
    },
    {
      "cell_type": "markdown",
      "metadata": {
        "id": "8719fc9f-491d-40ba-ad44-0b2795ede558"
      },
      "source": [
        "<img src = \"https://wagon-public-datasets.s3.amazonaws.com/data-science-images/05-ML/09-Time-Series/covatiates.png\">"
      ],
      "id": "8719fc9f-491d-40ba-ad44-0b2795ede558"
    },
    {
      "cell_type": "markdown",
      "metadata": {
        "id": "d8e14f9b-83ba-4315-86a6-08e6f6b430d5"
      },
      "source": [
        "Let's try folding in some covariates for our ice_cream sales - what about searches for \"hot weather\"? (This will essentially act as a proxy for weather forecasts)"
      ],
      "id": "d8e14f9b-83ba-4315-86a6-08e6f6b430d5"
    },
    {
      "cell_type": "code",
      "execution_count": null,
      "metadata": {
        "id": "410592dc-d7d1-421d-b4a7-57bebad693da"
      },
      "outputs": [],
      "source": [
        "weather_df = pd.read_csv(\"weather.csv\", header = 1)"
      ],
      "id": "410592dc-d7d1-421d-b4a7-57bebad693da"
    },
    {
      "cell_type": "code",
      "execution_count": null,
      "metadata": {
        "id": "--2h6rT44pQp"
      },
      "outputs": [],
      "source": [
        "weather_df"
      ],
      "id": "--2h6rT44pQp"
    },
    {
      "cell_type": "markdown",
      "metadata": {
        "id": "NUYJ3n7K4pQq"
      },
      "source": [
        "We create a time series just as we did before:"
      ],
      "id": "NUYJ3n7K4pQq"
    },
    {
      "cell_type": "code",
      "execution_count": null,
      "metadata": {
        "id": "7b9dee9b-3ebb-4702-820c-4da468c7dc30"
      },
      "outputs": [],
      "source": [
        "weather_ts = TimeSeries.from_dataframe(weather_df, time_col=\"Month\", value_cols=\"hot weather: (United States)\")"
      ],
      "id": "7b9dee9b-3ebb-4702-820c-4da468c7dc30"
    },
    {
      "cell_type": "markdown",
      "metadata": {
        "id": "fz3Z6BIu4pQr"
      },
      "source": [
        "Let's visualize the two side by side to see if they look aligned:"
      ],
      "id": "fz3Z6BIu4pQr"
    },
    {
      "cell_type": "code",
      "execution_count": null,
      "metadata": {
        "id": "bmiDqHJD4pQr"
      },
      "outputs": [],
      "source": [
        "weather_ts.plot()\n",
        "scaled_ts.plot()"
      ],
      "id": "bmiDqHJD4pQr"
    },
    {
      "cell_type": "markdown",
      "metadata": {
        "id": "Cs8yjrxd4pQs"
      },
      "source": [
        "We'll need to apply the same scaling procedures as before so we can properly compare:"
      ],
      "id": "Cs8yjrxd4pQs"
    },
    {
      "cell_type": "code",
      "execution_count": null,
      "metadata": {
        "id": "efd9d463-fb52-4de9-b712-6172ffe8e168"
      },
      "outputs": [],
      "source": [
        "preproc_weather = ts_transformer.fit_transform(weather_ts)"
      ],
      "id": "efd9d463-fb52-4de9-b712-6172ffe8e168"
    },
    {
      "cell_type": "code",
      "execution_count": null,
      "metadata": {
        "id": "xQTSidwu4pQs"
      },
      "outputs": [],
      "source": [
        "preproc_weather.plot(label = \"weather searches\")\n",
        "scaled_ts.plot(label = \"ice cream searches\")"
      ],
      "id": "xQTSidwu4pQs"
    },
    {
      "cell_type": "markdown",
      "metadata": {
        "id": "0b0272e8-98e5-45f2-a152-5990182b5e48"
      },
      "source": [
        "There seems to be quite a strong correlation between the two. If we add future predictions for \"hot weather\" searches (which would probably be quite similar to just a regular weather forecast), does our model get better?"
      ],
      "id": "0b0272e8-98e5-45f2-a152-5990182b5e48"
    },
    {
      "cell_type": "markdown",
      "metadata": {
        "id": "59914c9d-c690-4c9b-9847-78d40632b13e"
      },
      "source": [
        "Let's try it with a simple AutoArima Model and no covariates before we add them in:"
      ],
      "id": "59914c9d-c690-4c9b-9847-78d40632b13e"
    },
    {
      "cell_type": "code",
      "execution_count": null,
      "metadata": {
        "id": "2ea22cd9-914b-40fe-a481-073181e1598b"
      },
      "outputs": [],
      "source": [
        "model = AutoARIMA()\n",
        "\n",
        "# w no covariates\n",
        "model.fit(train)\n",
        "# predict on our val\n",
        "base_preds = model.predict(len(val))\n",
        "# calculate mape\n",
        "accuracy = mape(val, base_preds)\n",
        "# add it to a comparison dict\n",
        "covariates_dict = {}\n",
        "covariates_dict[\"no_covariates\"] = accuracy"
      ],
      "id": "2ea22cd9-914b-40fe-a481-073181e1598b"
    },
    {
      "cell_type": "markdown",
      "metadata": {
        "id": "c5d0ba3f-5680-43c4-aeb7-c823e422fe09"
      },
      "source": [
        "Now we fold in future covariates (i.e. our future prediction data for hot weather)"
      ],
      "id": "c5d0ba3f-5680-43c4-aeb7-c823e422fe09"
    },
    {
      "cell_type": "code",
      "execution_count": null,
      "metadata": {
        "id": "zQXJssLW4pQu"
      },
      "outputs": [],
      "source": [
        "covariate_model = AutoARIMA()\n",
        "# w future covariates only\n",
        "covariate_model.fit(train, future_covariates = preproc_weather)\n",
        "base_preds = covariate_model.predict(len(val), future_covariates=preproc_weather)\n",
        "accuracy = mape(val, base_preds)\n",
        "covariates_dict[f\"future_covariates\"] = accuracy"
      ],
      "id": "zQXJssLW4pQu"
    },
    {
      "cell_type": "code",
      "execution_count": null,
      "metadata": {
        "id": "f7bc3de5-7495-48d5-9c60-3a53a9e8d727"
      },
      "outputs": [],
      "source": [
        "covariates_dict"
      ],
      "id": "f7bc3de5-7495-48d5-9c60-3a53a9e8d727"
    },
    {
      "cell_type": "markdown",
      "metadata": {
        "id": "SqlfbiFL4pQv"
      },
      "source": [
        "Our error is down to just versus the original 20%. Darts makes it so easy to fold in as many different covariate series as we want to - all we have to do is `stack()` them (see stack [documentation](https://unit8co.github.io/darts/generated_api/darts.timeseries.html?highlight=stack#darts.timeseries.TimeSeries.stack) if you'd like to have some fun sticking more time series together)!"
      ],
      "id": "SqlfbiFL4pQv"
    },
    {
      "cell_type": "markdown",
      "metadata": {
        "id": "2bcda017-de99-460c-8698-f771952b3465"
      },
      "source": [
        "🚀 In this notebook, you've accomplished the following:\n",
        "\n",
        "📚 Data Loading and Visualization: You loaded time series data, created Darts TimeSeries objects, and visualized the data using Darts' visualization capabilities.\n",
        "\n",
        "🔄 Data Manipulation: You performed various operations to manipulate time series data, including handling missing values, resampling, rolling window calculations, and feature engineering.\n",
        "\n",
        "⏳ Time Series Modeling and Forecasting: You explored different models such as NaiveSeasonal, ExponentialSmoothing, AutoARIMA, Prophet, and TBATS, fitting them to the data and generating forecasts.\n",
        "\n",
        "🔎 Covariates and Holidays: You learned how to incorporate covariates and holidays into your time series models, leveraging their predictive power to improve forecast accuracy.\n",
        "\n",
        "🎊 Conclusion: Working with time series doesn't have to be hard! Darts simplifies the process and empowers you to unlock insights from temporal data using an array of tools and models. So, dive in, explore, and unlock the potential of time series analysis! ✨\n",
        "\n",
        "🌈 Remember to have fun while exploring the captivating world of time series! If you encounter any challenges, Darts provides extensive documentation and a supportive community to assist you along the way. 🌟\n",
        "\n",
        "Happy forecasting! 🚀😊"
      ],
      "id": "2bcda017-de99-460c-8698-f771952b3465"
    }
  ],
  "metadata": {
    "kernelspec": {
      "display_name": "Python 3",
      "language": "python",
      "name": "python3"
    },
    "colab": {
      "provenance": [],
      "include_colab_link": true
    }
  },
  "nbformat": 4,
  "nbformat_minor": 5
}